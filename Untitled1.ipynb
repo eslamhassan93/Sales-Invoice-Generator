{
  "nbformat": 4,
  "nbformat_minor": 0,
  "metadata": {
    "colab": {
      "provenance": [],
      "authorship_tag": "ABX9TyNRMP4JJgsjQxU7P91RQ9fZ",
      "include_colab_link": true
    },
    "kernelspec": {
      "name": "python3",
      "display_name": "Python 3"
    },
    "language_info": {
      "name": "python"
    }
  },
  "cells": [
    {
      "cell_type": "markdown",
      "metadata": {
        "id": "view-in-github",
        "colab_type": "text"
      },
      "source": [
        "<a href=\"https://colab.research.google.com/github/eslamhassan93/Sales-Invoice-Generator/blob/main/Untitled1.ipynb\" target=\"_parent\"><img src=\"https://colab.research.google.com/assets/colab-badge.svg\" alt=\"Open In Colab\"/></a>"
      ]
    },
    {
      "cell_type": "code",
      "execution_count": 2,
      "metadata": {
        "colab": {
          "base_uri": "https://localhost:8080/"
        },
        "id": "Ut2OsbmlAAtl",
        "outputId": "d62551b5-d7b2-4ec4-9c3f-4201f130a6b3"
      },
      "outputs": [
        {
          "output_type": "stream",
          "name": "stdout",
          "text": [
            "30\n"
          ]
        }
      ],
      "source": [
        "x=5*6\n",
        "print(x)"
      ]
    },
    {
      "cell_type": "code",
      "source": [
        "n=int(input(\"Enter input value\"))\n",
        "if n <0:\n",
        "  print(\"استغفرالله\")\n",
        "  print(\"توكلت على الله\")\n",
        "\n",
        "else :\n",
        "  print(\"الحمدلله \")\n",
        "  print(\"سبحان الله\")\n",
        "\n",
        "\n"
      ],
      "metadata": {
        "colab": {
          "base_uri": "https://localhost:8080/"
        },
        "id": "RbQ0EogwVNIY",
        "outputId": "520200af-e064-4c78-9ab3-85dd0dad21d0"
      },
      "execution_count": 15,
      "outputs": [
        {
          "output_type": "stream",
          "name": "stdout",
          "text": [
            "Enter input value2\n",
            "الحمدلله \n",
            "سبحان الله\n"
          ]
        }
      ]
    },
    {
      "cell_type": "code",
      "source": [
        "\n",
        "# cb=float(input(\"enter cb current rated value\"))\n",
        "\n",
        "motor_hp=float(input(\"enter motor horse power\"))\n",
        "num_motors=float(input(\"enter number of motor\"))\n",
        "df=float(input(\"enter derating factor value\"))\n",
        "\n",
        "def cable_current(cb,df,i_rated,i_cb):\n",
        "  i_rated=motor_hp*1.5\n",
        "  i_cb=i_rated*1.25\n",
        "\n",
        "  if i_cb<63:\n",
        "      cb=63\n",
        "      return cb/df;\n",
        "\n",
        "x=cable_current(cb,df,i_rated,i_cb)\n",
        "print(\"cable current rated\",round(x,0))\n",
        "print(\"choose 4*16+16 cu/cu/pvc\")\n",
        ""
      ],
      "metadata": {
        "colab": {
          "base_uri": "https://localhost:8080/"
        },
        "id": "5ZLrKgsnYjeh",
        "outputId": "dfa84cb3-fdb4-4eb9-d5f2-2b4fd19e78eb"
      },
      "execution_count": 55,
      "outputs": [
        {
          "output_type": "stream",
          "name": "stdout",
          "text": [
            "enter motor horse power30\n",
            "enter number of motor3\n",
            "enter derating factor value.82\n",
            "cable current rated 77.0\n",
            "choose 4*16+16 cu/cu/pvc\n"
          ]
        }
      ]
    },
    {
      "cell_type": "code",
      "source": [
        "motor_hp=float(input(\"enter motor horse power\"))\n",
        "num_motors=float(input(\"enter number of motor\"))\n",
        "\n",
        "i_rated=motor_hp*1.5\n",
        "i_cb=i_rated*1.25\n",
        "\n",
        "print(\"circuit breaker current\",round(i_cb))\n"
      ],
      "metadata": {
        "colab": {
          "base_uri": "https://localhost:8080/"
        },
        "id": "lwB5IoMifKF6",
        "outputId": "54781c2c-5396-4a85-91f1-daf0864e8af1"
      },
      "execution_count": 43,
      "outputs": [
        {
          "output_type": "stream",
          "name": "stdout",
          "text": [
            "enter motor horse power30\n",
            "enter number of motor3\n",
            "circuit breaker current 56.25\n"
          ]
        }
      ]
    },
    {
      "cell_type": "code",
      "source": [
        "# Add cable cross-section calculation\n",
        "def cable_cross_section(current):\n",
        "    if current <= 20:\n",
        "        return \"2.5 mm²\"\n",
        "    elif current <= 40:\n",
        "        return \"4 mm²\"\n",
        "    elif current <= 63:\n",
        "        return \"6 mm²\"\n",
        "    elif current <= 100:\n",
        "        return \"10 mm²\"\n",
        "    elif current <= 160:\n",
        "        return \"16 mm²\"\n",
        "    elif current <= 250:\n",
        "        return \"25 mm²\"\n",
        "    else:\n",
        "        return \"Larger sizes needed, consult standards.\"\n",
        "\n",
        "motor_hp = float(input(\"Enter motor horse power: \"))\n",
        "num_motors = float(input(\"Enter number of motors: \"))\n",
        "df = float(input(\"Enter derating factor value: \"))\n",
        "\n",
        "i_rated = motor_hp * 1.5\n",
        "i_cb = i_rated * 1.25\n",
        "cb_current = i_cb / df\n",
        "\n",
        "print(\"Cable current rated:\", round(cb_current, 0))\n",
        "cable_size = cable_cross_section(cb_current)\n",
        "print(\"Recommended cable cross-section:\", cable_size)"
      ],
      "metadata": {
        "colab": {
          "base_uri": "https://localhost:8080/"
        },
        "id": "awanUB8txGTs",
        "outputId": "e2a75f32-b93e-4966-c28b-367c40b23afd"
      },
      "execution_count": 56,
      "outputs": [
        {
          "output_type": "stream",
          "name": "stdout",
          "text": [
            "Enter motor horse power: 30\n",
            "Enter number of motors: 3\n",
            "Enter derating factor value: .82\n",
            "Cable current rated: 69.0\n",
            "Recommended cable cross-section: 10 mm²\n"
          ]
        }
      ]
    }
  ]
}